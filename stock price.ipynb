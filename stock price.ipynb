{
 "cells": [
  {
   "cell_type": "code",
   "execution_count": null,
   "metadata": {},
   "outputs": [],
   "source": [
    "import numpy as np\n",
    "import pandas as pd\n",
    "import datetime as dt\n",
    "\n",
    "import yfinance as yf\n",
    "\n",
    "\n",
    "import plotly.graph_objs as go\n",
    "import matplotlib.pyplot as plt\n"
   ]
  },
  {
   "cell_type": "code",
   "execution_count": 2,
   "metadata": {},
   "outputs": [],
   "source": [
    "start_time = '2021-01-30'"
   ]
  },
  {
   "cell_type": "code",
   "execution_count": 5,
   "metadata": {},
   "outputs": [
    {
     "name": "stdout",
     "output_type": "stream",
     "text": [
      "[*********************100%***********************]  1 of 1 completed\n"
     ]
    }
   ],
   "source": [
    "data = yf.download(tickers='GME', start=start_time,period='5d', interval='1h')"
   ]
  },
  {
   "cell_type": "code",
   "execution_count": 6,
   "metadata": {},
   "outputs": [
    {
     "name": "stdout",
     "output_type": "stream",
     "text": [
      "                                 Open        High         Low       Close  \\\n",
      "2021-02-01 09:30:00-05:00  316.559998  322.000000  213.070007  213.070007   \n",
      "2021-02-01 10:30:00-05:00  213.070007  275.000000  212.000000  273.850006   \n",
      "2021-02-01 11:30:00-05:00  273.540009  280.000000  241.210007  251.999893   \n",
      "2021-02-01 12:30:00-05:00  252.000000  260.630005  231.000000  239.490005   \n",
      "2021-02-01 13:30:00-05:00  239.690002  253.889893  230.000000  244.589996   \n",
      "\n",
      "                            Adj Close    Volume  \n",
      "2021-02-01 09:30:00-05:00  213.070007  13010124  \n",
      "2021-02-01 10:30:00-05:00  273.850006   6970883  \n",
      "2021-02-01 11:30:00-05:00  251.999893   3574197  \n",
      "2021-02-01 12:30:00-05:00  239.490005   2273752  \n",
      "2021-02-01 13:30:00-05:00  244.589996   2878964  \n"
     ]
    }
   ],
   "source": [
    "print(data.head())"
   ]
  },
  {
   "cell_type": "code",
   "execution_count": null,
   "metadata": {},
   "outputs": [],
   "source": []
  }
 ],
 "metadata": {
  "kernelspec": {
   "display_name": "Python 3",
   "language": "python",
   "name": "python3"
  },
  "language_info": {
   "codemirror_mode": {
    "name": "ipython",
    "version": 3
   },
   "file_extension": ".py",
   "mimetype": "text/x-python",
   "name": "python",
   "nbconvert_exporter": "python",
   "pygments_lexer": "ipython3",
   "version": "3.8.5"
  }
 },
 "nbformat": 4,
 "nbformat_minor": 4
}
